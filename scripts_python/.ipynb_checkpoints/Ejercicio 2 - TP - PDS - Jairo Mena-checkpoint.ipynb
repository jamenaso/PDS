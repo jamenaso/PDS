{
 "cells": [
  {
   "cell_type": "markdown",
   "metadata": {},
   "source": [
    "<center><h1>Ejercicio 2 “Encoder Convolucional”</h1></center>\n",
    "<center><h1>Trabajo práctico, Procesamiento Digital de Señales</h1></center>\n",
    "<center><h1>Jairo Mena</h1></center>"
   ]
  },
  {
   "cell_type": "markdown",
   "metadata": {},
   "source": [
    "Código de generación de vectores de prueba con Python."
   ]
  },
  {
   "cell_type": "code",
   "execution_count": null,
   "metadata": {},
   "outputs": [],
   "source": [
    "import numpy as np\n",
    "import sk_dsp_comm.fec_conv as fec\n",
    "\n",
    "def bitfield(n):\n",
    "    return [int(digit) for digit in '{0:16b}'.format(n)] \n",
    "\n",
    "cc1 = fec.fec_conv(('1111001','1011011'))\n",
    "\n",
    "state = '0000000'\n",
    "result = np.array([],dtype=np.uint8)\n",
    "int_array = np.array([0x8001,0x8002,0x8003,0x8004],dtype=np.uint64)\n",
    "print(\"Para las Entradas:\",)\n",
    "\n",
    "for item in int_array:    \n",
    "    print('0x' + hex(item)) \n",
    "for item in int_array:\n",
    "    bit_array =  bitfield(item)\n",
    "    bit_array = bit_array[::-1]\n",
    "    y,state = cc1.conv_encoder(bit_array,state)\n",
    "    y = np.packbits(y[::-1].astype(np.int64),bitorder = 'big')\n",
    "    result = np.concatenate([result,y])\n",
    "\n",
    "result = result.reshape(result.size//4,4).astype(dtype = np.int64)\n",
    "\n",
    "print(\"\\nSe obtiene las Salidas:\")\n",
    "for item in result:    \n",
    "    print('0x' + hex(int.from_bytes(list(item),byteorder = 'big'))[2:].zfill(8)) "
   ]
  }
 ],
 "metadata": {
  "kernelspec": {
   "display_name": "Python 3",
   "language": "python",
   "name": "python3"
  },
  "language_info": {
   "codemirror_mode": {
    "name": "ipython",
    "version": 3
   },
   "file_extension": ".py",
   "mimetype": "text/x-python",
   "name": "python",
   "nbconvert_exporter": "python",
   "pygments_lexer": "ipython3",
   "version": "3.7.6"
  }
 },
 "nbformat": 4,
 "nbformat_minor": 4
}
