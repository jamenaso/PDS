{
 "cells": [
  {
   "cell_type": "markdown",
   "metadata": {},
   "source": [
    "<center><h1>Ejercicio 3 “AXI Stream y Ecuaciones de Diferencias”</h1></center>\n",
    "<center><h1>Trabajo práctico, Procesamiento Digital de Señales</h1></center>\n",
    "<center><h1>Jairo Mena</h1></center>"
   ]
  },
  {
   "attachments": {},
   "cell_type": "markdown",
   "metadata": {},
   "source": [
    "Se tiene la siguiente singularidad del polinomio N(z) y D(z):\n",
    "\n",
    "b = $[-0.04896,0.06276,0.2925,0.4226,0.2925,0.06276,-0.04896]$\n",
    "\n",
    "Se obtiene la siguiente ecuación de diferencia:\n",
    "\n",
    "$$ y(n) = - 0.04896 x(n) + 0.06276 x(n-1) + 0.2925 x(n-2) + 0.4226 x(n-3) + 0.2925 x(n-4) + 0.06276 x(n-5) - 0.04896 x(n-6) $$\n",
    " \n",
    "Se realiza la transformada Z a ambos lados de la igualdad.\n",
    " \n",
    "$$ Y(z) = - 0.04896 X(z) + 0.06276 z^{-1}.X(z) + 0.2925 z^{-2}.X(z) + 0.4226 z^{-3}.X(z) + 0.2925 z^{-4}.X(z) + 0.06276 z^{-5}.X(z) - 0.04896 z^{-6}.X(z) $$\n",
    "  \n",
    "$$ Y(z) = X(z) ( - 0.04896 + 0.06276 z^{-1} + 0.2925 z^{-2} + 0.4226 z^{-3} + 0.2925 z^{-4} + 0.06276 z^{-5} - 0.04896 z^{-6} ) $$\n",
    " \n",
    "$$ \\frac{Y(z)}{X(z)} = H(z) =\\frac{- 0.04896 + 0.06276 z^{-1} + 0.2925 z^{-2} + 0.4226 z^{-3} + 0.2925 z^{-4} + 0.06276 z^{-5} - 0.04896 z^{-6}}{1}  = \\frac{N(z)}{D(z)} $$"
   ]
  },
  {
   "cell_type": "markdown",
   "metadata": {},
   "source": []
  }
 ],
 "metadata": {
  "kernelspec": {
   "display_name": "Python 3",
   "language": "python",
   "name": "python3"
  },
  "language_info": {
   "codemirror_mode": {
    "name": "ipython",
    "version": 3
   },
   "file_extension": ".py",
   "mimetype": "text/x-python",
   "name": "python",
   "nbconvert_exporter": "python",
   "pygments_lexer": "ipython3",
   "version": "3.7.6"
  }
 },
 "nbformat": 4,
 "nbformat_minor": 4
}
